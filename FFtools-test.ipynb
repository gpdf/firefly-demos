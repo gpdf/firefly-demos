{
 "cells": [
  {
   "cell_type": "code",
   "execution_count": 17,
   "metadata": {
    "collapsed": false
   },
   "outputs": [],
   "source": [
    "from IPython.html.widgets import DOMWidget\n",
    "from IPython.display import display\n",
    "from IPython.utils.traitlets import Unicode, Int\n",
    "class FITSWidget(DOMWidget):\n",
    "    _view_module = Unicode('FITSViewModule', sync=True)\n",
    "    _view_name = Unicode('FITSView', sync=True)\n",
    "    value = Int(500, sync=True)"
   ]
  },
  {
   "cell_type": "code",
   "execution_count": 19,
   "metadata": {
    "collapsed": false
   },
   "outputs": [
    {
     "data": {
      "application/javascript": [
       "delete requirejs.s.contexts._.defined.FITSViewModule;\n",
       "define('FITSViewModule', ['jquery', 'widgets/js/widget'], function($, widget) {\n",
       "    console.log('x3');\n",
       "    \n",
       "    var FITSView = widget.DOMWidgetView.extend({\n",
       "        render: function() {\n",
       "            this.viewer = $('<div></div>');\n",
       "            this.viewer.attr('id', 'fv1');\n",
       "            this.viewer.attr('style', 'width: 500px; height: 500px; padding: 10px 5px 5px 5px;' );\n",
       "            this.$el.append(this.viewer);\n",
       "       }\n",
       "    });\n",
       "    \n",
       "    return {FITSView: FITSView};\n",
       "});"
      ],
      "text/plain": [
       "<IPython.core.display.Javascript object>"
      ]
     },
     "metadata": {},
     "output_type": "display_data"
    }
   ],
   "source": [
    "%%javascript\n",
    "delete requirejs.s.contexts._.defined.FITSViewModule;\n",
    "define('FITSViewModule', ['jquery', 'widgets/js/widget'], function($, widget) {\n",
    "    console.log('x3');\n",
    "    \n",
    "    var FITSView = widget.DOMWidgetView.extend({\n",
    "        render: function() {\n",
    "            this.viewer = $('<div></div>');\n",
    "            this.viewer.attr('id', 'fv1');\n",
    "            this.viewer.attr('style', 'width: 500px; height: 500px; padding: 10px 5px 5px 5px;' );\n",
    "            this.$el.append(this.viewer);\n",
    "       }\n",
    "    });\n",
    "    \n",
    "    return {FITSView: FITSView};\n",
    "});"
   ]
  },
  {
   "cell_type": "code",
   "execution_count": 22,
   "metadata": {
    "collapsed": false
   },
   "outputs": [
    {
     "data": {
      "text/html": [
       "<div id=\"fv2\" style=\"width: 500px; height: 500px; padding: 10px 5px 5px 5px;\"></div>\n",
       "\n",
       "<script type=\"text/javascript\">\n",
       "    {\n",
       "        onFireflyLoaded= function() {\n",
       "\n",
       "                var data2= { \"Type\"      : \"URL\",\n",
       "                             \"URL\"       : \"http://web.ipac.caltech.edu/staff/roby/demo/2mass-m31-green.fits\",\n",
       "                             \"Title\"     : \"FITS from a URL\",\n",
       "                             \"ZoomType\"  : \"TO_WIDTH\",\n",
       "                             \"ZoomToWidth\" : \"500\",\n",
       "                             \"PlotToDiv\"  : \"fv2\"\n",
       "                           };\n",
       "                firefly.plotGroupedImage(data2, \"group1\");\n",
       "          }\n",
       "\n",
       "   }\n",
       "   \n",
       "</script>\n",
       "\n",
       "<script type=\"text/javascript\" language='javascript' src='http://localhost:8080/fftools/fftools.nocache.js'></script>"
      ],
      "text/plain": [
       "<IPython.core.display.HTML object>"
      ]
     },
     "metadata": {},
     "output_type": "display_data"
    }
   ],
   "source": [
    "%%html\n",
    "<div id=\"fv2\" style=\"width: 500px; height: 500px; padding: 10px 5px 5px 5px;\"></div>\n",
    "\n",
    "<script type=\"text/javascript\">\n",
    "    {\n",
    "        onFireflyLoaded= function() {\n",
    "\n",
    "                var data2= { \"Type\"      : \"URL\",\n",
    "                             \"URL\"       : \"http://web.ipac.caltech.edu/staff/roby/demo/2mass-m31-green.fits\",\n",
    "                             \"Title\"     : \"FITS from a URL\",\n",
    "                             \"ZoomType\"  : \"TO_WIDTH\",\n",
    "                             \"ZoomToWidth\" : \"500\",\n",
    "                             \"PlotToDiv\"  : \"fv2\"\n",
    "                           };\n",
    "                firefly.plotGroupedImage(data2, \"group1\");\n",
    "          }\n",
    "\n",
    "   }\n",
    "    \n",
    "</script>\n",
    "\n",
    "<script type=\"text/javascript\" language='javascript' src='http://localhost:8080/fftools/fftools.nocache.js'></script>\n"
   ]
  },
  {
   "cell_type": "code",
   "execution_count": 20,
   "metadata": {
    "collapsed": true
   },
   "outputs": [],
   "source": [
    "f=FITSWidget()"
   ]
  },
  {
   "cell_type": "code",
   "execution_count": 23,
   "metadata": {
    "collapsed": false
   },
   "outputs": [
    {
     "data": {
      "application/javascript": [
       "var data2= { \"Type\"      : \"URL\",\n",
       "            \"URL\"       : \"http://web.ipac.caltech.edu/staff/roby/demo/2mass-m31-green.fits\",\n",
       "             \"Title\"     : \"FITS from a URL\",\n",
       "                             \"ZoomType\"  : \"TO_WIDTH\",\n",
       "                             \"ZoomToWidth\" : \"500\",\n",
       "                             \"PlotToDiv\"  : \"fv1\"\n",
       "                           };\n",
       "                firefly.plotGroupedImage(data2, \"group1\");"
      ],
      "text/plain": [
       "<IPython.core.display.Javascript object>"
      ]
     },
     "metadata": {},
     "output_type": "display_data"
    }
   ],
   "source": [
    "%%javascript\n",
    "var data2= { \"Type\"      : \"URL\",\n",
    "            \"URL\"       : \"http://web.ipac.caltech.edu/staff/roby/demo/2mass-m31-green.fits\",\n",
    "             \"Title\"     : \"FITS from a URL\",\n",
    "                             \"ZoomType\"  : \"TO_WIDTH\",\n",
    "                             \"ZoomToWidth\" : \"500\",\n",
    "                             \"PlotToDiv\"  : \"fv1\"\n",
    "                           };\n",
    "                firefly.plotGroupedImage(data2, \"group1\");\n"
   ]
  },
  {
   "cell_type": "code",
   "execution_count": 21,
   "metadata": {
    "collapsed": true
   },
   "outputs": [],
   "source": [
    "display(f)"
   ]
  },
  {
   "cell_type": "code",
   "execution_count": null,
   "metadata": {
    "collapsed": true
   },
   "outputs": [],
   "source": []
  }
 ],
 "metadata": {
  "kernelspec": {
   "display_name": "Python 2",
   "language": "python",
   "name": "python2"
  },
  "language_info": {
   "codemirror_mode": {
    "name": "ipython",
    "version": 2
   },
   "file_extension": ".py",
   "mimetype": "text/x-python",
   "name": "python",
   "nbconvert_exporter": "python",
   "pygments_lexer": "ipython2",
   "version": "2.7.9"
  }
 },
 "nbformat": 4,
 "nbformat_minor": 0
}
